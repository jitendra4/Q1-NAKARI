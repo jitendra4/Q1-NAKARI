{
 "cells": [
  {
   "cell_type": "code",
   "execution_count": 7,
   "metadata": {},
   "outputs": [
    {
     "name": "stdout",
     "output_type": "stream",
     "text": [
      "Requirement already satisfied: selenium in d:\\new folder\\lib\\site-packages (3.141.0)\n",
      "Requirement already satisfied: urllib3 in d:\\new folder\\lib\\site-packages (from selenium) (1.25.11)\n"
     ]
    }
   ],
   "source": [
    "!pip install selenium"
   ]
  },
  {
   "cell_type": "code",
   "execution_count": 8,
   "metadata": {},
   "outputs": [],
   "source": [
    "#LET REQRURIED LALARARIES\n",
    "import selenium\n",
    "import pandas as pd\n",
    "from selenium import webdriver"
   ]
  },
  {
   "cell_type": "code",
   "execution_count": 9,
   "metadata": {},
   "outputs": [],
   "source": [
    "# go to link= https://chromedriver.chromium.org/downloads"
   ]
  },
  {
   "cell_type": "code",
   "execution_count": 10,
   "metadata": {},
   "outputs": [],
   "source": [
    "# lets frist connect to the web drivers\n",
    "driver= webdriver.Chrome(r\"C:\\Users\\G\\Downloads\\chromedriver_win32\\chromedriver.exe\")"
   ]
  },
  {
   "cell_type": "code",
   "execution_count": 11,
   "metadata": {},
   "outputs": [],
   "source": [
    "# spectfying the URL of the webpage to be scraped\n",
    "url= (\"https://www.naukri.com/data-scientist-jobs-in-delhi-ncr?k=data%20scientist&l=delhi%2Fncr\")"
   ]
  },
  {
   "cell_type": "code",
   "execution_count": 12,
   "metadata": {},
   "outputs": [],
   "source": [
    "# let open the webpage through our web drivers\n",
    "driver.get(url)"
   ]
  },
  {
   "cell_type": "code",
   "execution_count": 67,
   "metadata": {},
   "outputs": [],
   "source": [
    "job_titles=[]\n",
    "company_names=[]\n",
    "locations_list=[]\n",
    "experience_list=[]"
   ]
  },
  {
   "cell_type": "code",
   "execution_count": 68,
   "metadata": {},
   "outputs": [
    {
     "data": {
      "text/plain": [
       "[<selenium.webdriver.remote.webelement.WebElement (session=\"b4181f9d9af1c4daf349fc21cf350143\", element=\"3ec0c71a-67ac-4c00-9d05-4bdcf32d360a\")>,\n",
       " <selenium.webdriver.remote.webelement.WebElement (session=\"b4181f9d9af1c4daf349fc21cf350143\", element=\"9482c131-8d0e-44d7-8bdb-92d573f6ef54\")>,\n",
       " <selenium.webdriver.remote.webelement.WebElement (session=\"b4181f9d9af1c4daf349fc21cf350143\", element=\"b063bdad-2e82-4f3c-981f-8088d619da09\")>,\n",
       " <selenium.webdriver.remote.webelement.WebElement (session=\"b4181f9d9af1c4daf349fc21cf350143\", element=\"325db8e4-f446-478f-a954-3cbc522cf5d6\")>]"
      ]
     },
     "execution_count": 68,
     "metadata": {},
     "output_type": "execute_result"
    }
   ],
   "source": [
    "# let extract all the tags having the job-titles\n",
    "titles_tag= driver.find_elements_by_xpath(\"//a[@class='title fw500 ellipsis']\")\n",
    "titles_tag[0:4]"
   ]
  },
  {
   "cell_type": "code",
   "execution_count": 69,
   "metadata": {
    "scrolled": true
   },
   "outputs": [
    {
     "data": {
      "text/plain": [
       "['Data Scientist - Machine Learning - Remote Working',\n",
       " 'Founding Member & Principal Data Scientist - Machine Learning',\n",
       " 'Data Scientist - Python/Machine Learning',\n",
       " 'Data Scientist']"
      ]
     },
     "execution_count": 69,
     "metadata": {},
     "output_type": "execute_result"
    }
   ],
   "source": [
    "# let extracted job titles all items for loop\n",
    "for i in titles_tag:\n",
    "    titles=i.text\n",
    "    job_titles.append(titles)\n",
    "job_titles[0:4]"
   ]
  },
  {
   "cell_type": "code",
   "execution_count": 70,
   "metadata": {},
   "outputs": [
    {
     "data": {
      "text/plain": [
       "[<selenium.webdriver.remote.webelement.WebElement (session=\"b4181f9d9af1c4daf349fc21cf350143\", element=\"2d756dbe-2b3e-40d5-9d6b-65351feb5840\")>,\n",
       " <selenium.webdriver.remote.webelement.WebElement (session=\"b4181f9d9af1c4daf349fc21cf350143\", element=\"c4ba271c-8978-425f-851b-b04bb7a21f5f\")>,\n",
       " <selenium.webdriver.remote.webelement.WebElement (session=\"b4181f9d9af1c4daf349fc21cf350143\", element=\"06a3ca19-5aeb-42bc-ad71-296a77789f77\")>,\n",
       " <selenium.webdriver.remote.webelement.WebElement (session=\"b4181f9d9af1c4daf349fc21cf350143\", element=\"b9c0c4a3-3b2b-4d89-8e42-40d7700843c5\")>]"
      ]
     },
     "execution_count": 70,
     "metadata": {},
     "output_type": "execute_result"
    }
   ],
   "source": [
    "# let extract all the tags having the company-names\n",
    "company_tag= driver.find_elements_by_xpath(\"//a[@class='subTitle ellipsis fleft']\")\n",
    "company_tag[0:4]"
   ]
  },
  {
   "cell_type": "code",
   "execution_count": 71,
   "metadata": {},
   "outputs": [
    {
     "data": {
      "text/plain": [
       "['Doji Ltd', 'Benovymed Healthcare', 'Jubna', 'IBM India Pvt. Limited']"
      ]
     },
     "execution_count": 71,
     "metadata": {},
     "output_type": "execute_result"
    }
   ],
   "source": [
    "# let extracted company-names all items for loop\n",
    "for i in company_tag:\n",
    "    company=i.text\n",
    "    company_names.append(company)\n",
    "company_names[0:4]"
   ]
  },
  {
   "cell_type": "code",
   "execution_count": 72,
   "metadata": {},
   "outputs": [
    {
     "data": {
      "text/plain": [
       "[<selenium.webdriver.remote.webelement.WebElement (session=\"b4181f9d9af1c4daf349fc21cf350143\", element=\"a4ad4ab1-fc7b-48cc-bd8c-7d4f5f1e0f11\")>,\n",
       " <selenium.webdriver.remote.webelement.WebElement (session=\"b4181f9d9af1c4daf349fc21cf350143\", element=\"7b98507d-fa6c-42ea-9d91-db2ed0eb05f7\")>,\n",
       " <selenium.webdriver.remote.webelement.WebElement (session=\"b4181f9d9af1c4daf349fc21cf350143\", element=\"b6e51f92-660f-4074-94c1-5315fd6a7953\")>,\n",
       " <selenium.webdriver.remote.webelement.WebElement (session=\"b4181f9d9af1c4daf349fc21cf350143\", element=\"e772432e-5b85-4874-accc-a49d489c8931\")>]"
      ]
     },
     "execution_count": 72,
     "metadata": {},
     "output_type": "execute_result"
    }
   ],
   "source": [
    "# let extract all the tags having the company-names\n",
    "experience_tag= driver.find_elements_by_xpath(\"//li[@class='fleft grey-text br2 placeHolderLi experience']/span[1]\")\n",
    "experience_tag[0:4]"
   ]
  },
  {
   "cell_type": "code",
   "execution_count": 73,
   "metadata": {},
   "outputs": [
    {
     "data": {
      "text/plain": [
       "['2-5 Yrs', '3-7 Yrs', '5-8 Yrs', '3-5 Yrs']"
      ]
     },
     "execution_count": 73,
     "metadata": {},
     "output_type": "execute_result"
    }
   ],
   "source": [
    "# let extracted company-names all items for loop\n",
    "for i in experience_tag:\n",
    "    experience=i.text\n",
    "    experience_list.append(experience)\n",
    "experience_list[0:4]"
   ]
  },
  {
   "cell_type": "code",
   "execution_count": 77,
   "metadata": {},
   "outputs": [
    {
     "data": {
      "text/plain": [
       "[<selenium.webdriver.remote.webelement.WebElement (session=\"b4181f9d9af1c4daf349fc21cf350143\", element=\"c26a91f2-f8a9-4bb9-aea0-44d8472c5330\")>,\n",
       " <selenium.webdriver.remote.webelement.WebElement (session=\"b4181f9d9af1c4daf349fc21cf350143\", element=\"bc4653c5-8d7b-4e1a-8a08-50f78b7267e4\")>,\n",
       " <selenium.webdriver.remote.webelement.WebElement (session=\"b4181f9d9af1c4daf349fc21cf350143\", element=\"036dcada-d296-44d6-8b61-272c3489cafd\")>,\n",
       " <selenium.webdriver.remote.webelement.WebElement (session=\"b4181f9d9af1c4daf349fc21cf350143\", element=\"0e26fc59-be09-4641-b4ae-69430b1e51e6\")>]"
      ]
     },
     "execution_count": 77,
     "metadata": {},
     "output_type": "execute_result"
    }
   ],
   "source": [
    "# let extract all the tags having the company-names\n",
    "location_tag= driver.find_elements_by_xpath(\"//li[@class='fleft grey-text br2 placeHolderLi location']/span[1]\")\n",
    "location_tag[0:4]"
   ]
  },
  {
   "cell_type": "code",
   "execution_count": 79,
   "metadata": {},
   "outputs": [
    {
     "data": {
      "text/plain": [
       "['Delhi NCR, Bengaluru, Anywhere in India',\n",
       " 'Gurgaon Gurugram',\n",
       " 'Noida',\n",
       " 'Gurgaon Gurugram']"
      ]
     },
     "execution_count": 79,
     "metadata": {},
     "output_type": "execute_result"
    }
   ],
   "source": [
    "# let extracted company-names all items for loop\n",
    "for i in location_tag:\n",
    "    location=i.text\n",
    "    locations_list.append(location)\n",
    "locations_list[0:4]"
   ]
  },
  {
   "cell_type": "code",
   "execution_count": 81,
   "metadata": {},
   "outputs": [
    {
     "name": "stdout",
     "output_type": "stream",
     "text": [
      "20 20 20 20\n"
     ]
    }
   ],
   "source": [
    "print(len(job_titles),\n",
    "len(company_names),\n",
    "len(locations_list),\n",
    "len(experience_list))"
   ]
  },
  {
   "cell_type": "code",
   "execution_count": 85,
   "metadata": {},
   "outputs": [
    {
     "data": {
      "text/html": [
       "<div>\n",
       "<style scoped>\n",
       "    .dataframe tbody tr th:only-of-type {\n",
       "        vertical-align: middle;\n",
       "    }\n",
       "\n",
       "    .dataframe tbody tr th {\n",
       "        vertical-align: top;\n",
       "    }\n",
       "\n",
       "    .dataframe thead th {\n",
       "        text-align: right;\n",
       "    }\n",
       "</style>\n",
       "<table border=\"1\" class=\"dataframe\">\n",
       "  <thead>\n",
       "    <tr style=\"text-align: right;\">\n",
       "      <th></th>\n",
       "      <th>titles</th>\n",
       "      <th>comapany</th>\n",
       "      <th>location</th>\n",
       "      <th>experience_list</th>\n",
       "    </tr>\n",
       "  </thead>\n",
       "  <tbody>\n",
       "    <tr>\n",
       "      <th>0</th>\n",
       "      <td>Data Scientist - Machine Learning - Remote Wor...</td>\n",
       "      <td>Doji Ltd</td>\n",
       "      <td>Delhi NCR, Bengaluru, Anywhere in India</td>\n",
       "      <td>2-5 Yrs</td>\n",
       "    </tr>\n",
       "    <tr>\n",
       "      <th>1</th>\n",
       "      <td>Founding Member &amp; Principal Data Scientist - M...</td>\n",
       "      <td>Benovymed Healthcare</td>\n",
       "      <td>Gurgaon Gurugram</td>\n",
       "      <td>3-7 Yrs</td>\n",
       "    </tr>\n",
       "    <tr>\n",
       "      <th>2</th>\n",
       "      <td>Data Scientist - Python/Machine Learning</td>\n",
       "      <td>Jubna</td>\n",
       "      <td>Noida</td>\n",
       "      <td>5-8 Yrs</td>\n",
       "    </tr>\n",
       "    <tr>\n",
       "      <th>3</th>\n",
       "      <td>Data Scientist</td>\n",
       "      <td>IBM India Pvt. Limited</td>\n",
       "      <td>Gurgaon Gurugram</td>\n",
       "      <td>3-5 Yrs</td>\n",
       "    </tr>\n",
       "    <tr>\n",
       "      <th>4</th>\n",
       "      <td>Senior Data Scientist (Remote / Work from Home)</td>\n",
       "      <td>WalletHub</td>\n",
       "      <td>Chennai, Delhi NCR, Bengaluru</td>\n",
       "      <td>10-20 Yrs</td>\n",
       "    </tr>\n",
       "    <tr>\n",
       "      <th>5</th>\n",
       "      <td>Tech Mahindra hiring For Data Scientist- Noida</td>\n",
       "      <td>tech mahindra ltd</td>\n",
       "      <td>Noida</td>\n",
       "      <td>5-10 Yrs</td>\n",
       "    </tr>\n",
       "    <tr>\n",
       "      <th>6</th>\n",
       "      <td>Associate Data Scientist</td>\n",
       "      <td>Indegene Private Limited</td>\n",
       "      <td>Gurgaon</td>\n",
       "      <td>6-11 Yrs</td>\n",
       "    </tr>\n",
       "    <tr>\n",
       "      <th>7</th>\n",
       "      <td>Data Scientist - Commercial Planning and Analysis</td>\n",
       "      <td>Air Asia India Limited</td>\n",
       "      <td>Delhi NCR, Gurgaon</td>\n",
       "      <td>1-6 Yrs</td>\n",
       "    </tr>\n",
       "    <tr>\n",
       "      <th>8</th>\n",
       "      <td>Analyst/Senior Analyst - DATA Scientist</td>\n",
       "      <td>Tredence</td>\n",
       "      <td>Chennai, Delhi NCR, Bengaluru</td>\n",
       "      <td>2-4 Yrs</td>\n",
       "    </tr>\n",
       "    <tr>\n",
       "      <th>9</th>\n",
       "      <td>Data Scientist</td>\n",
       "      <td>Amity University</td>\n",
       "      <td>Faridabad, Delhi NCR, Ghaziabad</td>\n",
       "      <td>6-8 Yrs</td>\n",
       "    </tr>\n",
       "    <tr>\n",
       "      <th>10</th>\n",
       "      <td>Data Scientist</td>\n",
       "      <td>GreatLearning</td>\n",
       "      <td>Bengaluru, Gurgaon</td>\n",
       "      <td>3-5 Yrs</td>\n",
       "    </tr>\n",
       "    <tr>\n",
       "      <th>11</th>\n",
       "      <td>Opening For Data Scientist in Axtria</td>\n",
       "      <td>Axtria India Private Limited</td>\n",
       "      <td>Bengaluru, Gurgaon, Noida</td>\n",
       "      <td>7-12 Yrs</td>\n",
       "    </tr>\n",
       "    <tr>\n",
       "      <th>12</th>\n",
       "      <td>Data Scientist/Analyst - Machine Learning/Deep...</td>\n",
       "      <td>EchoIndia</td>\n",
       "      <td>Delhi</td>\n",
       "      <td>3-6 Yrs</td>\n",
       "    </tr>\n",
       "    <tr>\n",
       "      <th>13</th>\n",
       "      <td>Senior Data Scientist (Algorithmic Trading)</td>\n",
       "      <td>TETHYS TECHNOLOGIES PRIVATE LIMITED</td>\n",
       "      <td>Noida</td>\n",
       "      <td>5-10 Yrs</td>\n",
       "    </tr>\n",
       "    <tr>\n",
       "      <th>14</th>\n",
       "      <td>Python Developer with R (Data Scientist) - Noi...</td>\n",
       "      <td>Om Careers</td>\n",
       "      <td>Gurgaon, Noida</td>\n",
       "      <td>3-7 Yrs</td>\n",
       "    </tr>\n",
       "    <tr>\n",
       "      <th>15</th>\n",
       "      <td>Data Scientist</td>\n",
       "      <td>World Wide Technology</td>\n",
       "      <td>Gurgaon</td>\n",
       "      <td>3-8 Yrs</td>\n",
       "    </tr>\n",
       "    <tr>\n",
       "      <th>16</th>\n",
       "      <td>Data Scientist – Document Extraction (Immediat...</td>\n",
       "      <td>ARIMON DIGILYTICS PRIVATE LIMITED</td>\n",
       "      <td>Gurgaon</td>\n",
       "      <td>2-5 Yrs</td>\n",
       "    </tr>\n",
       "    <tr>\n",
       "      <th>17</th>\n",
       "      <td>Data Scientist</td>\n",
       "      <td>Comviva Technology</td>\n",
       "      <td>Gurgaon</td>\n",
       "      <td>1-3 Yrs</td>\n",
       "    </tr>\n",
       "    <tr>\n",
       "      <th>18</th>\n",
       "      <td>Data Scientist( Hadoop/Redshift/BigQuery)</td>\n",
       "      <td>Jubna</td>\n",
       "      <td>Noida</td>\n",
       "      <td>4-6 Yrs</td>\n",
       "    </tr>\n",
       "    <tr>\n",
       "      <th>19</th>\n",
       "      <td>Data scientist at revolutionary fintech startup</td>\n",
       "      <td>Fintech startup</td>\n",
       "      <td>Delhi NCR, Mumbai, Bengaluru</td>\n",
       "      <td>3-8 Yrs</td>\n",
       "    </tr>\n",
       "  </tbody>\n",
       "</table>\n",
       "</div>"
      ],
      "text/plain": [
       "                                               titles  \\\n",
       "0   Data Scientist - Machine Learning - Remote Wor...   \n",
       "1   Founding Member & Principal Data Scientist - M...   \n",
       "2            Data Scientist - Python/Machine Learning   \n",
       "3                                      Data Scientist   \n",
       "4     Senior Data Scientist (Remote / Work from Home)   \n",
       "5      Tech Mahindra hiring For Data Scientist- Noida   \n",
       "6                            Associate Data Scientist   \n",
       "7   Data Scientist - Commercial Planning and Analysis   \n",
       "8             Analyst/Senior Analyst - DATA Scientist   \n",
       "9                                      Data Scientist   \n",
       "10                                     Data Scientist   \n",
       "11               Opening For Data Scientist in Axtria   \n",
       "12  Data Scientist/Analyst - Machine Learning/Deep...   \n",
       "13        Senior Data Scientist (Algorithmic Trading)   \n",
       "14  Python Developer with R (Data Scientist) - Noi...   \n",
       "15                                     Data Scientist   \n",
       "16  Data Scientist – Document Extraction (Immediat...   \n",
       "17                                     Data Scientist   \n",
       "18          Data Scientist( Hadoop/Redshift/BigQuery)   \n",
       "19    Data scientist at revolutionary fintech startup   \n",
       "\n",
       "                               comapany  \\\n",
       "0                              Doji Ltd   \n",
       "1                  Benovymed Healthcare   \n",
       "2                                 Jubna   \n",
       "3                IBM India Pvt. Limited   \n",
       "4                             WalletHub   \n",
       "5                     tech mahindra ltd   \n",
       "6              Indegene Private Limited   \n",
       "7                Air Asia India Limited   \n",
       "8                              Tredence   \n",
       "9                      Amity University   \n",
       "10                        GreatLearning   \n",
       "11         Axtria India Private Limited   \n",
       "12                            EchoIndia   \n",
       "13  TETHYS TECHNOLOGIES PRIVATE LIMITED   \n",
       "14                           Om Careers   \n",
       "15                World Wide Technology   \n",
       "16    ARIMON DIGILYTICS PRIVATE LIMITED   \n",
       "17                   Comviva Technology   \n",
       "18                                Jubna   \n",
       "19                      Fintech startup   \n",
       "\n",
       "                                   location experience_list  \n",
       "0   Delhi NCR, Bengaluru, Anywhere in India         2-5 Yrs  \n",
       "1                          Gurgaon Gurugram         3-7 Yrs  \n",
       "2                                     Noida         5-8 Yrs  \n",
       "3                          Gurgaon Gurugram         3-5 Yrs  \n",
       "4             Chennai, Delhi NCR, Bengaluru       10-20 Yrs  \n",
       "5                                     Noida        5-10 Yrs  \n",
       "6                                   Gurgaon        6-11 Yrs  \n",
       "7                        Delhi NCR, Gurgaon         1-6 Yrs  \n",
       "8             Chennai, Delhi NCR, Bengaluru         2-4 Yrs  \n",
       "9           Faridabad, Delhi NCR, Ghaziabad         6-8 Yrs  \n",
       "10                       Bengaluru, Gurgaon         3-5 Yrs  \n",
       "11                Bengaluru, Gurgaon, Noida        7-12 Yrs  \n",
       "12                                    Delhi         3-6 Yrs  \n",
       "13                                    Noida        5-10 Yrs  \n",
       "14                           Gurgaon, Noida         3-7 Yrs  \n",
       "15                                  Gurgaon         3-8 Yrs  \n",
       "16                                  Gurgaon         2-5 Yrs  \n",
       "17                                  Gurgaon         1-3 Yrs  \n",
       "18                                    Noida         4-6 Yrs  \n",
       "19             Delhi NCR, Mumbai, Bengaluru         3-8 Yrs  "
      ]
     },
     "execution_count": 85,
     "metadata": {},
     "output_type": "execute_result"
    }
   ],
   "source": [
    "import pandas as pd\n",
    "jobs= pd.DataFrame({})\n",
    "jobs['titles']=job_titles\n",
    "jobs['comapany']=company_names\n",
    "jobs['location']=locations_list\n",
    "jobs['experience_list']=experience_list\n",
    "jobs"
   ]
  },
  {
   "cell_type": "code",
   "execution_count": null,
   "metadata": {},
   "outputs": [],
   "source": []
  }
 ],
 "metadata": {
  "kernelspec": {
   "display_name": "Python 3",
   "language": "python",
   "name": "python3"
  },
  "language_info": {
   "codemirror_mode": {
    "name": "ipython",
    "version": 3
   },
   "file_extension": ".py",
   "mimetype": "text/x-python",
   "name": "python",
   "nbconvert_exporter": "python",
   "pygments_lexer": "ipython3",
   "version": "3.8.5"
  }
 },
 "nbformat": 4,
 "nbformat_minor": 4
}
